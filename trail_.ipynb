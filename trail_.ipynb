sx=c(1,3,4)
s=c(4,5,6)
plot(sx,s)


