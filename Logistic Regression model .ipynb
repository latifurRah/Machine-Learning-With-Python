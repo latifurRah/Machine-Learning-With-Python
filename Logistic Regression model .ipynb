{
 "cells": [
  {
   "cell_type": "markdown",
   "id": "62492156-cf15-4ed2-9f74-e16b22ba4ea0",
   "metadata": {},
   "source": [
    "## Logistic regression model for charun data for the telecommunication company analysis their services"
   ]
  },
  {
   "cell_type": "markdown",
   "id": "d25bd05a-ff8f-40bb-b925-71a0e5a1eef5",
   "metadata": {},
   "source": [
    "### Logistic Regression Classification with python "
   ]
  },
  {
   "cell_type": "code",
   "execution_count": 8,
   "id": "35135d40-4acf-4f38-a005-8cc24e3692ec",
   "metadata": {},
   "outputs": [],
   "source": [
    "# import the required libraries \n",
    "import pandas as pd\n",
    "import numpy as np\n",
    "import matplotlib.pyplot as plt\n",
    "%matplotlib inline\n",
    "\n",
    "\n",
    "from sklearn.model_selection import train_test_split\n",
    "from sklearn.linear_model import LogisticRegression\n",
    "from sklearn.preprocessing import StandardScaler\n",
    "from sklearn.metrics import log_loss\n",
    "\n",
    "import warnings\n",
    "warnings.filterwarnings('ignore')"
   ]
  },
  {
   "cell_type": "code",
   "execution_count": 9,
   "id": "0031908a-41ed-4461-b49a-5ffc62776e6e",
   "metadata": {},
   "outputs": [],
   "source": [
    "# import the data set\n",
    "df=pd.read_csv(\"ChurnData.csv\")"
   ]
  },
  {
   "cell_type": "code",
   "execution_count": 10,
   "id": "f48331ea-57d7-4ae9-8bdf-dd342413a8ef",
   "metadata": {},
   "outputs": [
    {
     "data": {
      "text/html": [
       "<div>\n",
       "<style scoped>\n",
       "    .dataframe tbody tr th:only-of-type {\n",
       "        vertical-align: middle;\n",
       "    }\n",
       "\n",
       "    .dataframe tbody tr th {\n",
       "        vertical-align: top;\n",
       "    }\n",
       "\n",
       "    .dataframe thead th {\n",
       "        text-align: right;\n",
       "    }\n",
       "</style>\n",
       "<table border=\"1\" class=\"dataframe\">\n",
       "  <thead>\n",
       "    <tr style=\"text-align: right;\">\n",
       "      <th></th>\n",
       "      <th>tenure</th>\n",
       "      <th>age</th>\n",
       "      <th>address</th>\n",
       "      <th>income</th>\n",
       "      <th>ed</th>\n",
       "      <th>employ</th>\n",
       "      <th>equip</th>\n",
       "      <th>callcard</th>\n",
       "      <th>wireless</th>\n",
       "      <th>longmon</th>\n",
       "      <th>...</th>\n",
       "      <th>pager</th>\n",
       "      <th>internet</th>\n",
       "      <th>callwait</th>\n",
       "      <th>confer</th>\n",
       "      <th>ebill</th>\n",
       "      <th>loglong</th>\n",
       "      <th>logtoll</th>\n",
       "      <th>lninc</th>\n",
       "      <th>custcat</th>\n",
       "      <th>churn</th>\n",
       "    </tr>\n",
       "  </thead>\n",
       "  <tbody>\n",
       "    <tr>\n",
       "      <th>count</th>\n",
       "      <td>200.000000</td>\n",
       "      <td>200.000000</td>\n",
       "      <td>200.000000</td>\n",
       "      <td>200.000000</td>\n",
       "      <td>200.00000</td>\n",
       "      <td>200.00000</td>\n",
       "      <td>200.000000</td>\n",
       "      <td>200.000000</td>\n",
       "      <td>200.000000</td>\n",
       "      <td>200.00000</td>\n",
       "      <td>...</td>\n",
       "      <td>200.000000</td>\n",
       "      <td>200.000000</td>\n",
       "      <td>200.00000</td>\n",
       "      <td>200.000000</td>\n",
       "      <td>200.000000</td>\n",
       "      <td>200.000000</td>\n",
       "      <td>200.000000</td>\n",
       "      <td>200.000000</td>\n",
       "      <td>200.000000</td>\n",
       "      <td>200.000000</td>\n",
       "    </tr>\n",
       "    <tr>\n",
       "      <th>mean</th>\n",
       "      <td>35.505000</td>\n",
       "      <td>41.165000</td>\n",
       "      <td>11.650000</td>\n",
       "      <td>75.130000</td>\n",
       "      <td>2.82500</td>\n",
       "      <td>10.22500</td>\n",
       "      <td>0.425000</td>\n",
       "      <td>0.705000</td>\n",
       "      <td>0.290000</td>\n",
       "      <td>11.78925</td>\n",
       "      <td>...</td>\n",
       "      <td>0.275000</td>\n",
       "      <td>0.440000</td>\n",
       "      <td>0.45500</td>\n",
       "      <td>0.460000</td>\n",
       "      <td>0.440000</td>\n",
       "      <td>2.193285</td>\n",
       "      <td>3.229185</td>\n",
       "      <td>3.951015</td>\n",
       "      <td>2.475000</td>\n",
       "      <td>0.290000</td>\n",
       "    </tr>\n",
       "    <tr>\n",
       "      <th>std</th>\n",
       "      <td>21.640971</td>\n",
       "      <td>13.076803</td>\n",
       "      <td>10.158419</td>\n",
       "      <td>128.430468</td>\n",
       "      <td>1.28555</td>\n",
       "      <td>8.95743</td>\n",
       "      <td>0.495584</td>\n",
       "      <td>0.457187</td>\n",
       "      <td>0.454901</td>\n",
       "      <td>9.88725</td>\n",
       "      <td>...</td>\n",
       "      <td>0.447635</td>\n",
       "      <td>0.497633</td>\n",
       "      <td>0.49922</td>\n",
       "      <td>0.499648</td>\n",
       "      <td>0.497633</td>\n",
       "      <td>0.731282</td>\n",
       "      <td>0.281019</td>\n",
       "      <td>0.752553</td>\n",
       "      <td>1.079445</td>\n",
       "      <td>0.454901</td>\n",
       "    </tr>\n",
       "    <tr>\n",
       "      <th>min</th>\n",
       "      <td>1.000000</td>\n",
       "      <td>19.000000</td>\n",
       "      <td>0.000000</td>\n",
       "      <td>9.000000</td>\n",
       "      <td>1.00000</td>\n",
       "      <td>0.00000</td>\n",
       "      <td>0.000000</td>\n",
       "      <td>0.000000</td>\n",
       "      <td>0.000000</td>\n",
       "      <td>1.10000</td>\n",
       "      <td>...</td>\n",
       "      <td>0.000000</td>\n",
       "      <td>0.000000</td>\n",
       "      <td>0.00000</td>\n",
       "      <td>0.000000</td>\n",
       "      <td>0.000000</td>\n",
       "      <td>0.095000</td>\n",
       "      <td>1.749000</td>\n",
       "      <td>2.197000</td>\n",
       "      <td>1.000000</td>\n",
       "      <td>0.000000</td>\n",
       "    </tr>\n",
       "    <tr>\n",
       "      <th>25%</th>\n",
       "      <td>16.750000</td>\n",
       "      <td>31.000000</td>\n",
       "      <td>3.000000</td>\n",
       "      <td>31.000000</td>\n",
       "      <td>2.00000</td>\n",
       "      <td>3.00000</td>\n",
       "      <td>0.000000</td>\n",
       "      <td>0.000000</td>\n",
       "      <td>0.000000</td>\n",
       "      <td>5.53750</td>\n",
       "      <td>...</td>\n",
       "      <td>0.000000</td>\n",
       "      <td>0.000000</td>\n",
       "      <td>0.00000</td>\n",
       "      <td>0.000000</td>\n",
       "      <td>0.000000</td>\n",
       "      <td>1.711750</td>\n",
       "      <td>3.226500</td>\n",
       "      <td>3.434000</td>\n",
       "      <td>2.000000</td>\n",
       "      <td>0.000000</td>\n",
       "    </tr>\n",
       "    <tr>\n",
       "      <th>50%</th>\n",
       "      <td>33.500000</td>\n",
       "      <td>40.000000</td>\n",
       "      <td>9.000000</td>\n",
       "      <td>48.000000</td>\n",
       "      <td>3.00000</td>\n",
       "      <td>7.50000</td>\n",
       "      <td>0.000000</td>\n",
       "      <td>1.000000</td>\n",
       "      <td>0.000000</td>\n",
       "      <td>8.25000</td>\n",
       "      <td>...</td>\n",
       "      <td>0.000000</td>\n",
       "      <td>0.000000</td>\n",
       "      <td>0.00000</td>\n",
       "      <td>0.000000</td>\n",
       "      <td>0.000000</td>\n",
       "      <td>2.110000</td>\n",
       "      <td>3.240000</td>\n",
       "      <td>3.871000</td>\n",
       "      <td>2.000000</td>\n",
       "      <td>0.000000</td>\n",
       "    </tr>\n",
       "    <tr>\n",
       "      <th>75%</th>\n",
       "      <td>55.250000</td>\n",
       "      <td>51.000000</td>\n",
       "      <td>18.000000</td>\n",
       "      <td>80.000000</td>\n",
       "      <td>4.00000</td>\n",
       "      <td>17.00000</td>\n",
       "      <td>1.000000</td>\n",
       "      <td>1.000000</td>\n",
       "      <td>1.000000</td>\n",
       "      <td>14.30000</td>\n",
       "      <td>...</td>\n",
       "      <td>1.000000</td>\n",
       "      <td>1.000000</td>\n",
       "      <td>1.00000</td>\n",
       "      <td>1.000000</td>\n",
       "      <td>1.000000</td>\n",
       "      <td>2.660000</td>\n",
       "      <td>3.240000</td>\n",
       "      <td>4.382000</td>\n",
       "      <td>3.000000</td>\n",
       "      <td>1.000000</td>\n",
       "    </tr>\n",
       "    <tr>\n",
       "      <th>max</th>\n",
       "      <td>72.000000</td>\n",
       "      <td>76.000000</td>\n",
       "      <td>48.000000</td>\n",
       "      <td>1668.000000</td>\n",
       "      <td>5.00000</td>\n",
       "      <td>44.00000</td>\n",
       "      <td>1.000000</td>\n",
       "      <td>1.000000</td>\n",
       "      <td>1.000000</td>\n",
       "      <td>62.30000</td>\n",
       "      <td>...</td>\n",
       "      <td>1.000000</td>\n",
       "      <td>1.000000</td>\n",
       "      <td>1.00000</td>\n",
       "      <td>1.000000</td>\n",
       "      <td>1.000000</td>\n",
       "      <td>4.132000</td>\n",
       "      <td>4.227000</td>\n",
       "      <td>7.419000</td>\n",
       "      <td>4.000000</td>\n",
       "      <td>1.000000</td>\n",
       "    </tr>\n",
       "  </tbody>\n",
       "</table>\n",
       "<p>8 rows × 28 columns</p>\n",
       "</div>"
      ],
      "text/plain": [
       "           tenure         age     address       income         ed     employ  \\\n",
       "count  200.000000  200.000000  200.000000   200.000000  200.00000  200.00000   \n",
       "mean    35.505000   41.165000   11.650000    75.130000    2.82500   10.22500   \n",
       "std     21.640971   13.076803   10.158419   128.430468    1.28555    8.95743   \n",
       "min      1.000000   19.000000    0.000000     9.000000    1.00000    0.00000   \n",
       "25%     16.750000   31.000000    3.000000    31.000000    2.00000    3.00000   \n",
       "50%     33.500000   40.000000    9.000000    48.000000    3.00000    7.50000   \n",
       "75%     55.250000   51.000000   18.000000    80.000000    4.00000   17.00000   \n",
       "max     72.000000   76.000000   48.000000  1668.000000    5.00000   44.00000   \n",
       "\n",
       "            equip    callcard    wireless    longmon  ...       pager  \\\n",
       "count  200.000000  200.000000  200.000000  200.00000  ...  200.000000   \n",
       "mean     0.425000    0.705000    0.290000   11.78925  ...    0.275000   \n",
       "std      0.495584    0.457187    0.454901    9.88725  ...    0.447635   \n",
       "min      0.000000    0.000000    0.000000    1.10000  ...    0.000000   \n",
       "25%      0.000000    0.000000    0.000000    5.53750  ...    0.000000   \n",
       "50%      0.000000    1.000000    0.000000    8.25000  ...    0.000000   \n",
       "75%      1.000000    1.000000    1.000000   14.30000  ...    1.000000   \n",
       "max      1.000000    1.000000    1.000000   62.30000  ...    1.000000   \n",
       "\n",
       "         internet   callwait      confer       ebill     loglong     logtoll  \\\n",
       "count  200.000000  200.00000  200.000000  200.000000  200.000000  200.000000   \n",
       "mean     0.440000    0.45500    0.460000    0.440000    2.193285    3.229185   \n",
       "std      0.497633    0.49922    0.499648    0.497633    0.731282    0.281019   \n",
       "min      0.000000    0.00000    0.000000    0.000000    0.095000    1.749000   \n",
       "25%      0.000000    0.00000    0.000000    0.000000    1.711750    3.226500   \n",
       "50%      0.000000    0.00000    0.000000    0.000000    2.110000    3.240000   \n",
       "75%      1.000000    1.00000    1.000000    1.000000    2.660000    3.240000   \n",
       "max      1.000000    1.00000    1.000000    1.000000    4.132000    4.227000   \n",
       "\n",
       "            lninc     custcat       churn  \n",
       "count  200.000000  200.000000  200.000000  \n",
       "mean     3.951015    2.475000    0.290000  \n",
       "std      0.752553    1.079445    0.454901  \n",
       "min      2.197000    1.000000    0.000000  \n",
       "25%      3.434000    2.000000    0.000000  \n",
       "50%      3.871000    2.000000    0.000000  \n",
       "75%      4.382000    3.000000    1.000000  \n",
       "max      7.419000    4.000000    1.000000  \n",
       "\n",
       "[8 rows x 28 columns]"
      ]
     },
     "execution_count": 10,
     "metadata": {},
     "output_type": "execute_result"
    }
   ],
   "source": [
    "df.describe()"
   ]
  },
  {
   "cell_type": "markdown",
   "id": "99f89d87-2b28-481f-983a-384d90081273",
   "metadata": {},
   "source": [
    "## Data preprocessing\n"
   ]
  },
  {
   "cell_type": "code",
   "execution_count": 11,
   "id": "493e1e7b-870c-4e7b-845c-4feb2d726cec",
   "metadata": {},
   "outputs": [
    {
     "data": {
      "text/html": [
       "<div>\n",
       "<style scoped>\n",
       "    .dataframe tbody tr th:only-of-type {\n",
       "        vertical-align: middle;\n",
       "    }\n",
       "\n",
       "    .dataframe tbody tr th {\n",
       "        vertical-align: top;\n",
       "    }\n",
       "\n",
       "    .dataframe thead th {\n",
       "        text-align: right;\n",
       "    }\n",
       "</style>\n",
       "<table border=\"1\" class=\"dataframe\">\n",
       "  <thead>\n",
       "    <tr style=\"text-align: right;\">\n",
       "      <th></th>\n",
       "      <th>tenure</th>\n",
       "      <th>age</th>\n",
       "      <th>address</th>\n",
       "      <th>income</th>\n",
       "      <th>ed</th>\n",
       "      <th>employ</th>\n",
       "      <th>equip</th>\n",
       "      <th>churn</th>\n",
       "    </tr>\n",
       "  </thead>\n",
       "  <tbody>\n",
       "    <tr>\n",
       "      <th>0</th>\n",
       "      <td>11</td>\n",
       "      <td>33</td>\n",
       "      <td>7</td>\n",
       "      <td>136</td>\n",
       "      <td>5</td>\n",
       "      <td>5</td>\n",
       "      <td>0</td>\n",
       "      <td>1</td>\n",
       "    </tr>\n",
       "    <tr>\n",
       "      <th>1</th>\n",
       "      <td>33</td>\n",
       "      <td>33</td>\n",
       "      <td>12</td>\n",
       "      <td>33</td>\n",
       "      <td>2</td>\n",
       "      <td>0</td>\n",
       "      <td>0</td>\n",
       "      <td>1</td>\n",
       "    </tr>\n",
       "    <tr>\n",
       "      <th>2</th>\n",
       "      <td>23</td>\n",
       "      <td>30</td>\n",
       "      <td>9</td>\n",
       "      <td>30</td>\n",
       "      <td>1</td>\n",
       "      <td>2</td>\n",
       "      <td>0</td>\n",
       "      <td>0</td>\n",
       "    </tr>\n",
       "    <tr>\n",
       "      <th>3</th>\n",
       "      <td>38</td>\n",
       "      <td>35</td>\n",
       "      <td>5</td>\n",
       "      <td>76</td>\n",
       "      <td>2</td>\n",
       "      <td>10</td>\n",
       "      <td>1</td>\n",
       "      <td>0</td>\n",
       "    </tr>\n",
       "    <tr>\n",
       "      <th>4</th>\n",
       "      <td>7</td>\n",
       "      <td>35</td>\n",
       "      <td>14</td>\n",
       "      <td>80</td>\n",
       "      <td>2</td>\n",
       "      <td>15</td>\n",
       "      <td>0</td>\n",
       "      <td>0</td>\n",
       "    </tr>\n",
       "    <tr>\n",
       "      <th>...</th>\n",
       "      <td>...</td>\n",
       "      <td>...</td>\n",
       "      <td>...</td>\n",
       "      <td>...</td>\n",
       "      <td>...</td>\n",
       "      <td>...</td>\n",
       "      <td>...</td>\n",
       "      <td>...</td>\n",
       "    </tr>\n",
       "    <tr>\n",
       "      <th>195</th>\n",
       "      <td>55</td>\n",
       "      <td>44</td>\n",
       "      <td>24</td>\n",
       "      <td>83</td>\n",
       "      <td>1</td>\n",
       "      <td>23</td>\n",
       "      <td>0</td>\n",
       "      <td>0</td>\n",
       "    </tr>\n",
       "    <tr>\n",
       "      <th>196</th>\n",
       "      <td>34</td>\n",
       "      <td>23</td>\n",
       "      <td>3</td>\n",
       "      <td>24</td>\n",
       "      <td>1</td>\n",
       "      <td>7</td>\n",
       "      <td>0</td>\n",
       "      <td>0</td>\n",
       "    </tr>\n",
       "    <tr>\n",
       "      <th>197</th>\n",
       "      <td>6</td>\n",
       "      <td>32</td>\n",
       "      <td>10</td>\n",
       "      <td>47</td>\n",
       "      <td>1</td>\n",
       "      <td>10</td>\n",
       "      <td>0</td>\n",
       "      <td>0</td>\n",
       "    </tr>\n",
       "    <tr>\n",
       "      <th>198</th>\n",
       "      <td>24</td>\n",
       "      <td>30</td>\n",
       "      <td>0</td>\n",
       "      <td>25</td>\n",
       "      <td>4</td>\n",
       "      <td>5</td>\n",
       "      <td>0</td>\n",
       "      <td>1</td>\n",
       "    </tr>\n",
       "    <tr>\n",
       "      <th>199</th>\n",
       "      <td>61</td>\n",
       "      <td>50</td>\n",
       "      <td>16</td>\n",
       "      <td>190</td>\n",
       "      <td>2</td>\n",
       "      <td>22</td>\n",
       "      <td>1</td>\n",
       "      <td>0</td>\n",
       "    </tr>\n",
       "  </tbody>\n",
       "</table>\n",
       "<p>200 rows × 8 columns</p>\n",
       "</div>"
      ],
      "text/plain": [
       "     tenure  age  address  income  ed  employ  equip  churn\n",
       "0        11   33        7     136   5       5      0      1\n",
       "1        33   33       12      33   2       0      0      1\n",
       "2        23   30        9      30   1       2      0      0\n",
       "3        38   35        5      76   2      10      1      0\n",
       "4         7   35       14      80   2      15      0      0\n",
       "..      ...  ...      ...     ...  ..     ...    ...    ...\n",
       "195      55   44       24      83   1      23      0      0\n",
       "196      34   23        3      24   1       7      0      0\n",
       "197       6   32       10      47   1      10      0      0\n",
       "198      24   30        0      25   4       5      0      1\n",
       "199      61   50       16     190   2      22      1      0\n",
       "\n",
       "[200 rows x 8 columns]"
      ]
     },
     "execution_count": 11,
     "metadata": {},
     "output_type": "execute_result"
    }
   ],
   "source": [
    "churn_df = df[['tenure', 'age', 'address', 'income', 'ed', 'employ', 'equip', 'churn']]\n",
    "churn_df['churn'] = churn_df['churn'].astype('int')\n",
    "churn_df"
   ]
  },
  {
   "cell_type": "code",
   "execution_count": 12,
   "id": "f00fc7bc-f849-4701-8938-662dfdc574ff",
   "metadata": {},
   "outputs": [
    {
     "data": {
      "text/plain": [
       "array([[ 11,  33,   7, 136,   5,   5,   0],\n",
       "       [ 33,  33,  12,  33,   2,   0,   0],\n",
       "       [ 23,  30,   9,  30,   1,   2,   0],\n",
       "       [ 38,  35,   5,  76,   2,  10,   1],\n",
       "       [  7,  35,  14,  80,   2,  15,   0],\n",
       "       [ 68,  52,  17, 120,   1,  24,   0]], dtype=int64)"
      ]
     },
     "execution_count": 12,
     "metadata": {},
     "output_type": "execute_result"
    }
   ],
   "source": [
    "X=np.asarray(churn_df[[\"tenure\", \"age\", 'address', 'income', 'ed', 'employ','equip']])\n",
    "X[0:6]\n",
    "# Check the dimension of X array"
   ]
  },
  {
   "cell_type": "code",
   "execution_count": 13,
   "id": "e0e8876b-4a53-432e-96a0-4c57af6fe748",
   "metadata": {},
   "outputs": [
    {
     "data": {
      "text/plain": [
       "array([1, 1, 0, 0, 0, 0])"
      ]
     },
     "execution_count": 13,
     "metadata": {},
     "output_type": "execute_result"
    }
   ],
   "source": [
    "y=np.asarray(churn_df['churn'])\n",
    "y[0:6]"
   ]
  },
  {
   "cell_type": "code",
   "execution_count": 16,
   "id": "f561260c-5482-41dd-b61a-d329e801c269",
   "metadata": {},
   "outputs": [
    {
     "data": {
      "text/plain": [
       "array([[-1.13518441, -0.62595491, -0.4588971 ,  0.4751423 ,  1.6961288 ,\n",
       "        -0.58477841, -0.85972695],\n",
       "       [-0.11604313, -0.62595491,  0.03454064, -0.32886061, -0.6433592 ,\n",
       "        -1.14437497, -0.85972695],\n",
       "       [-0.57928917, -0.85594447, -0.261522  , -0.35227817, -1.42318853,\n",
       "        -0.92053635, -0.85972695]])"
      ]
     },
     "execution_count": 16,
     "metadata": {},
     "output_type": "execute_result"
    }
   ],
   "source": [
    "# Standarduze or normalize the dataset \n",
    "X_norm=StandardScaler().fit(X).transform(X)\n",
    "np.round(X_norm,2) # check the function\n",
    "X_norm[0:3]"
   ]
  },
  {
   "cell_type": "markdown",
   "id": "146699b8-ad5a-44b0-9108-2738309b9d66",
   "metadata": {},
   "source": [
    "## Splitting the data set"
   ]
  },
  {
   "cell_type": "code",
   "execution_count": 17,
   "id": "3c10c9e0-8f11-4e21-8e9a-5255c4ac613e",
   "metadata": {},
   "outputs": [],
   "source": [
    "X_train, X_test, y_train, y_test =train_test_split(X_norm, y, test_size=0.3, random_state=17)"
   ]
  },
  {
   "cell_type": "markdown",
   "id": "e21ba8bd-9bed-4b68-90cc-fe9cf5dcc617",
   "metadata": {},
   "source": [
    "## Logistic Regression Classifer Modeling \n"
   ]
  },
  {
   "cell_type": "code",
   "execution_count": 18,
   "id": "461b847b-47f0-447a-af5f-c8f99d800e28",
   "metadata": {},
   "outputs": [],
   "source": [
    "LR=LogisticRegression().fit(X_train, y_train)"
   ]
  },
  {
   "cell_type": "code",
   "execution_count": 21,
   "id": "354246a0-9a68-479f-9950-70a20228a83d",
   "metadata": {},
   "outputs": [
    {
     "data": {
      "text/plain": [
       "array([0, 0, 0, 0, 0, 0, 0, 0, 0, 1])"
      ]
     },
     "execution_count": 21,
     "metadata": {},
     "output_type": "execute_result"
    }
   ],
   "source": [
    "#using the training data we can predict the output variable. let us pridict the churn parameter for the test data set\n",
    "yhat= LR.predict(X_test)\n",
    "yhat[:10]"
   ]
  },
  {
   "cell_type": "code",
   "execution_count": 22,
   "id": "ca1d33b8-1f16-4ea4-bff1-368178a1b779",
   "metadata": {},
   "outputs": [
    {
     "data": {
      "text/plain": [
       "array([[0.61363809, 0.38636191],\n",
       "       [0.59313506, 0.40686494],\n",
       "       [0.6726062 , 0.3273938 ],\n",
       "       [0.9458887 , 0.0541113 ],\n",
       "       [0.70037233, 0.29962767],\n",
       "       [0.62407648, 0.37592352],\n",
       "       [0.80952018, 0.19047982],\n",
       "       [0.72722617, 0.27277383],\n",
       "       [0.96377184, 0.03622816],\n",
       "       [0.2243148 , 0.7756852 ],\n",
       "       [0.59653421, 0.40346579]])"
      ]
     },
     "execution_count": 22,
     "metadata": {},
     "output_type": "execute_result"
    }
   ],
   "source": [
    "# We can also predict the probability of the output variable\n",
    "\n",
    "yhat_prob=LR.predict_proba(X_test) # the threshold for class prediction as 0.5\n",
    "yhat_prob[:11] # why the output is an array"
   ]
  },
  {
   "cell_type": "code",
   "execution_count": 25,
   "id": "88611738-048b-4b1d-a2a1-8d01ec7e6e6d",
   "metadata": {},
   "outputs": [
    {
     "data": {
      "image/png": "[encoded data removed]",
      "text/plain": [
       "<Figure size 640x480 with 1 Axes>"
      ]
     },
     "metadata": {},
     "output_type": "display_data"
    }
   ],
   "source": [
    "coefficients=pd.Series(LR.coef_[0], index= churn_df.columns[:-1])\n",
    "coefficients.sort_values().plot(kind=\"barh\")\n",
    "plt.title(\" Feature Coefficients in logistic Regresion churn model\")\n",
    "plt.xlabel( \"Coefficient Value\")\n",
    "plt.show()"
   ]
  },
  {
   "cell_type": "markdown",
   "id": "0ff65009-2c93-4002-81de-d01288a9dc23",
   "metadata": {},
   "source": [
    "## Performance Evaluation"
   ]
  },
  {
   "cell_type": "code",
   "execution_count": 28,
   "id": "0e37147c-3146-4c97-bd65-2cf72247e3cf",
   "metadata": {},
   "outputs": [
    {
     "name": "stdout",
     "output_type": "stream",
     "text": [
      " Logistic Loss: 0.5120593492434014\n"
     ]
    }
   ],
   "source": [
    "## Log-loss \n",
    "logistic_loss=log_loss(y_test, yhat_prob)\n",
    "print(\" Logistic Loss:\", logistic_loss)"
   ]
  },
  {
   "cell_type": "code",
   "execution_count": null,
   "id": "4962a0b1-f66e-4b84-9675-36e87ce573bd",
   "metadata": {},
   "outputs": [],
   "source": []
  }
 ],
 "metadata": {
  "kernelspec": {
   "display_name": "Python 3 (ipykernel)",
   "language": "python",
   "name": "python3"
  },
  "language_info": {
   "codemirror_mode": {
    "name": "ipython",
    "version": 3
   },
   "file_extension": ".py",
   "mimetype": "text/x-python",
   "name": "python",
   "nbconvert_exporter": "python",
   "pygments_lexer": "ipython3",
   "version": "3.11.5"
  }
 },
 "nbformat": 4,
 "nbformat_minor": 5
}
